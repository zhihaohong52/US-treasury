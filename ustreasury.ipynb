{
 "cells": [
  {
   "cell_type": "code",
   "execution_count": 1,
   "metadata": {},
   "outputs": [],
   "source": [
    "#import libraries\n",
    "import pandas as pd\n",
    "import io\n",
    "import requests as requests\n",
    "\n",
    "#set url to download csv file\n",
    "URL = 'https://www.federalreserve.gov/datadownload/Output.aspx?rel=H15&series=bf17364827e38702b42a58cf8eaa3f78&lastobs=&from=&to=&filetype=csv&label=include&layout=seriescolumn&type=package'\n",
    "\n",
    "#download csv file and read it into a pandas dataframe\n",
    "response = requests.get(URL)\n",
    "if response.status_code == 200:\n",
    "    csvtext = response.text\n",
    "    csvbuffer = io.StringIO(csvtext)\n",
    "    us_treasury = pd.read_csv(csvbuffer)"
   ]
  },
  {
   "cell_type": "code",
   "execution_count": 2,
   "metadata": {},
   "outputs": [],
   "source": [
    "#data cleaning\n",
    "us_treasury = us_treasury.drop([0,1,2,3,4])\n",
    "us_treasury.rename(columns={'Series Description':'Date'}, inplace=True)\n",
    "us_treasury.set_index('Date', inplace=True)"
   ]
  },
  {
   "cell_type": "code",
   "execution_count": 4,
   "metadata": {},
   "outputs": [],
   "source": [
    "#write csv file\n",
    "import os\n",
    "os.makedirs('C:/Users/James/OneDrive - Nanyang Technological University/GitHub/US treasury', exist_ok=True)  \n",
    "us_treasury.to_csv('C:/Users/James/OneDrive - Nanyang Technological University/GitHub/US treasury/us_treasury.csv')"
   ]
  }
 ],
 "metadata": {
  "kernelspec": {
   "display_name": "Python 3 (ipykernel)",
   "language": "python",
   "name": "python3"
  },
  "language_info": {
   "codemirror_mode": {
    "name": "ipython",
    "version": 3
   },
   "file_extension": ".py",
   "mimetype": "text/x-python",
   "name": "python",
   "nbconvert_exporter": "python",
   "pygments_lexer": "ipython3",
   "version": "3.9.12"
  },
  "vscode": {
   "interpreter": {
    "hash": "02e30a1944b2587bb1294f2383a42da531eec4184971017897223c044f6bc1ae"
   }
  }
 },
 "nbformat": 4,
 "nbformat_minor": 4
}
